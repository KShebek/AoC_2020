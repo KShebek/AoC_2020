{
 "metadata": {
  "language_info": {
   "codemirror_mode": {
    "name": "ipython",
    "version": 3
   },
   "file_extension": ".py",
   "mimetype": "text/x-python",
   "name": "python",
   "nbconvert_exporter": "python",
   "pygments_lexer": "ipython3",
   "version": "3.7.6-final"
  },
  "orig_nbformat": 2,
  "kernelspec": {
   "name": "python37664bitcorecondabb4344123de84203808d4de20ce37c1e",
   "display_name": "Python 3.7.6 64-bit ('core': conda)"
  }
 },
 "nbformat": 4,
 "nbformat_minor": 2,
 "cells": [
  {
   "cell_type": "code",
   "execution_count": 32,
   "metadata": {
    "tags": []
   },
   "outputs": [
    {
     "output_type": "execute_result",
     "data": {
      "text/plain": [
       "272"
      ]
     },
     "metadata": {},
     "execution_count": 32
    }
   ],
   "source": [
    "\n",
    "with open('day2.txt') as f:\n",
    "    data = [i.strip('\\n') for i in f.readlines()]\n",
    "    data = [i.replace(':', '').split(' ') for i in data]\n",
    "\n",
    "def valid_p1(l):\n",
    "    r, c, s = l\n",
    "    low, high = map(int, r.split('-'))\n",
    "\n",
    "    n = s.count(c)\n",
    "    if low <= n and n <= high:\n",
    "        return True\n",
    "    else:\n",
    "        return False\n",
    "\n",
    "def valid_p2(l):\n",
    "    r, c, s = l\n",
    "    low, high = map(int, r.split('-'))\n",
    "    eq = [s[low-1]==c, s[high-1]==c]\n",
    "    if any(eq) and not all(eq):\n",
    "        return True\n",
    "    else:\n",
    "        return False\n",
    "\n",
    "list(map(valid_p2, data)).count(True)"
   ]
  }
 ]
}