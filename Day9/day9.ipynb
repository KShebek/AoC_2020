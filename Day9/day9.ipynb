{
 "metadata": {
  "language_info": {
   "codemirror_mode": {
    "name": "ipython",
    "version": 3
   },
   "file_extension": ".py",
   "mimetype": "text/x-python",
   "name": "python",
   "nbconvert_exporter": "python",
   "pygments_lexer": "ipython3",
   "version": "3.7.9-final"
  },
  "orig_nbformat": 2,
  "kernelspec": {
   "name": "python3",
   "display_name": "Python 3"
  }
 },
 "nbformat": 4,
 "nbformat_minor": 2,
 "cells": [
  {
   "cell_type": "code",
   "execution_count": 1,
   "metadata": {
    "tags": []
   },
   "outputs": [
    {
     "output_type": "stream",
     "name": "stdout",
     "text": [
      "1504371145\n"
     ]
    }
   ],
   "source": [
    "# Part 1 -- find number that doesn't have sum from previous 25\n",
    "from itertools import combinations\n",
    "data = [int(i) for i in open('day9.txt').read().split('\\n')]\n",
    "\n",
    "def is_good(i, pr, d):\n",
    "    c = list(combinations(d[i-pr:i], 2))\n",
    "    sums = list(map(sum, c))\n",
    "    for j in c:\n",
    "        if sum(j) == d[i] and j[0] != j[1]:\n",
    "            return True\n",
    "    return False\n",
    "\n",
    "pr = 25\n",
    "i = [is_good(i+pr, pr, data) for i in range(len(data)-pr)].index(False)+pr\n",
    "p1 = data[i]\n",
    "print(p1)"
   ]
  },
  {
   "cell_type": "code",
   "execution_count": 2,
   "metadata": {},
   "outputs": [
    {
     "output_type": "stream",
     "name": "stdout",
     "text": [
      "183278487\n"
     ]
    }
   ],
   "source": [
    "# Part 2 -- find sum of numbers that adds to part 1\n",
    "for j in range(i):\n",
    "    for k in range(j, i):\n",
    "        s = sum(data[j:k])\n",
    "        if s == p1:\n",
    "            print(min(data[j:k]) + max(data[j:k]))\n",
    "        elif s > p1:\n",
    "            break"
   ]
  }
 ]
}