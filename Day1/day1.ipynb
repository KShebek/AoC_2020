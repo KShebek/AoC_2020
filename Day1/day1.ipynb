{
 "metadata": {
  "language_info": {
   "codemirror_mode": {
    "name": "ipython",
    "version": 3
   },
   "file_extension": ".py",
   "mimetype": "text/x-python",
   "name": "python",
   "nbconvert_exporter": "python",
   "pygments_lexer": "ipython3",
   "version": "3.7.9-final"
  },
  "orig_nbformat": 2,
  "kernelspec": {
   "name": "python38364bitcombcondaca763f73f0354496866b6120caff02c7",
   "display_name": "Python 3.8.3 64-bit ('comb': conda)"
  }
 },
 "nbformat": 4,
 "nbformat_minor": 2,
 "cells": [
  {
   "cell_type": "code",
   "execution_count": 6,
   "metadata": {},
   "outputs": [
    {
     "output_type": "stream",
     "name": "stdout",
     "text": [
      "751776\n"
     ]
    }
   ],
   "source": [
    "from itertools import combinations\n",
    "from functools import reduce\n",
    "\n",
    "def prod(a, b): return a*b\n",
    "\n",
    "data = [int(i.strip('\\n')) for i in open('./day1.txt')]\n",
    "data = list(combinations(data, 2))\n",
    "\n",
    "i = list(map(sum, data)).index(2020)\n",
    "print(reduce(prod, data[i]))"
   ]
  },
  {
   "cell_type": "code",
   "execution_count": 10,
   "metadata": {},
   "outputs": [
    {
     "output_type": "execute_result",
     "data": {
      "text/plain": [
       "[3, 4, 5, 5, 6, 7]"
      ]
     },
     "metadata": {},
     "execution_count": 10
    }
   ],
   "source": [
    "list(map(sum, list(combinations([1, 2, 3, 4], 2))))"
   ]
  },
  {
   "cell_type": "code",
   "execution_count": null,
   "metadata": {},
   "outputs": [],
   "source": []
  }
 ]
}