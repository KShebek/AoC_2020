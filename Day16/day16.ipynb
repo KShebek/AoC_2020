{
 "metadata": {
  "language_info": {
   "codemirror_mode": {
    "name": "ipython",
    "version": 3
   },
   "file_extension": ".py",
   "mimetype": "text/x-python",
   "name": "python",
   "nbconvert_exporter": "python",
   "pygments_lexer": "ipython3",
   "version": "3.7.6-final"
  },
  "orig_nbformat": 2,
  "kernelspec": {
   "name": "python3",
   "display_name": "Python 3",
   "language": "python"
  }
 },
 "nbformat": 4,
 "nbformat_minor": 2,
 "cells": [
  {
   "cell_type": "code",
   "execution_count": 133,
   "metadata": {},
   "outputs": [
    {
     "output_type": "execute_result",
     "data": {
      "text/plain": [
       "20058"
      ]
     },
     "metadata": {},
     "execution_count": 133
    }
   ],
   "source": [
    "import copy\n",
    "blocks = open('day16.txt').read().split('\\n\\n')\n",
    "\n",
    "rules = {i.split(': ')[0]: [[int(k) for k in j.split('-')] for j in i.split(': ')[1].split(' or ')] for i in blocks[0].split('\\n')}\n",
    "mine = [int(i) for i in blocks[1].split('\\n')[1].split(',')]\n",
    "near = [[int(i) for i in j.split(',')] for j in blocks[2].split('\\n')[1:]]\n",
    "\n",
    "\n",
    "def find_bad(t):\n",
    "    invalid = 0\n",
    "    for i in t:\n",
    "        is_good = False\n",
    "        for r_name, r in rules.items():\n",
    "            for val_r in r:\n",
    "                if val_r[0] <= i <= val_r[1]:\n",
    "                    is_good = True  \n",
    "                        \n",
    "        if not is_good:                 \n",
    "            invalid += i\n",
    "        \n",
    "    return invalid\n",
    "                \n",
    "sum(map(find_bad, near))\n",
    "\n"
   ]
  },
  {
   "cell_type": "code",
   "execution_count": 142,
   "metadata": {},
   "outputs": [
    {
     "output_type": "execute_result",
     "data": {
      "text/plain": [
       "366871907221"
      ]
     },
     "metadata": {},
     "execution_count": 142
    }
   ],
   "source": [
    "from functools import reduce\n",
    "from operator import mul\n",
    "\n",
    "def rule_valid(r_name, col, tickets):\n",
    "    val_r = rules[r_name]\n",
    "    for ticket in tickets:     \n",
    "        if not (\n",
    "            val_r[0][0] <= ticket[col] <= val_r[0][1] or\n",
    "            val_r[1][0] <= ticket[col] <= val_r[1][1]\n",
    "        ):\n",
    "            return False\n",
    "        \n",
    "    return True\n",
    "\n",
    "good = [t for i, t in enumerate(near) if find_bad(t) == 0]\n",
    "col_check = {rule_name: [rule_valid(rule_name, col, good) for col in range(len(good[0]))] for rule_name in rules}\n",
    "col_assign = dict()\n",
    "\n",
    "to_change = []\n",
    "while col_check:\n",
    "    for rule in col_check:\n",
    "        if sum(col_check[rule]) == 1:\n",
    "            col_assign[rule] = col_check[rule].index(True)\n",
    "            to_change.append(col_check[rule].index(True))\n",
    "            \n",
    "    for i in to_change:\n",
    "        for rule in col_check:\n",
    "            col_check[rule][i] = False\n",
    "\n",
    "    for rule in col_assign:\n",
    "        if rule in col_check:\n",
    "            del(col_check[rule])\n",
    "\n",
    "d_ids = [j for i, j in col_assign.items() if i.startswith('depart')]\n",
    "reduce(mul, [mine[i] for i in d_ids])"
   ]
  }
 ]
}