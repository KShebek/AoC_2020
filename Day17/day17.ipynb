{
 "metadata": {
  "language_info": {
   "codemirror_mode": {
    "name": "ipython",
    "version": 3
   },
   "file_extension": ".py",
   "mimetype": "text/x-python",
   "name": "python",
   "nbconvert_exporter": "python",
   "pygments_lexer": "ipython3",
   "version": "3.7.6-final"
  },
  "orig_nbformat": 2,
  "kernelspec": {
   "name": "python3",
   "display_name": "Python 3",
   "language": "python"
  }
 },
 "nbformat": 4,
 "nbformat_minor": 2,
 "cells": [
  {
   "cell_type": "code",
   "execution_count": 87,
   "metadata": {},
   "outputs": [],
   "source": [
    "from itertools import product\n",
    "def get_neigh_sum(state, x, y, z):\n",
    "    neighs = list(product([x-1, x, x+1], [y-1, y, y+1], [z-1, z, z+1]))\n",
    "    neighs.remove((x, y, z))\n",
    "    s = 0\n",
    "    for neigh in neighs:\n",
    "        s += state.get(neigh, 0)\n",
    "\n",
    "    return s"
   ]
  },
  {
   "cell_type": "code",
   "execution_count": 81,
   "metadata": {},
   "outputs": [
    {
     "output_type": "execute_result",
     "data": {
      "text/plain": [
       "232"
      ]
     },
     "metadata": {},
     "execution_count": 81
    }
   ],
   "source": [
    "import copy\n",
    "\n",
    "def update(old_state, xr, yr, zr):\n",
    "    new_state = copy.copy(old_state)\n",
    "    for x in range(xr[0]-1, xr[1]+2):\n",
    "        for y in range(yr[0]-1, yr[1]+2):\n",
    "            for z in range(zr[0]-1, zr[1]+2):\n",
    "                val = old_state.get((x, y, z), 0)\n",
    "                \n",
    "                n = get_neigh_sum(old_state, x, y, z)\n",
    "                \n",
    "                if val == 0 and n == 3:\n",
    "                    new_state[(x, y, z)] = 1\n",
    "                if val == 1 and n not in [2, 3]:\n",
    "                    del(new_state[(x, y, z)])\n",
    "\n",
    "    return new_state\n",
    "\n",
    "init = [list(i) for i in open('day17.txt').read().split('\\n')]\n",
    "coord_i = dict()\n",
    "cstate = dict()\n",
    "for j, row in enumerate(init):\n",
    "    for i, val in enumerate(row):\n",
    "        if val == '#':\n",
    "            coord_i[(i, j)] = 1\n",
    "            cstate[(i, j, 0)] = 1\n",
    "        else:\n",
    "            coord_i[(i, j)] = 0\n",
    "\n",
    "for i in range(6):\n",
    "    xr = (min(i[0] for i in cstate), max(i[0] for i in cstate))\n",
    "    yr = (min(i[1] for i in cstate), max(i[1] for i in cstate))\n",
    "    zr = (min(i[2] for i in cstate), max(i[2] for i in cstate))\n",
    "    cstate = update(cstate, xr, yr, zr)\n",
    "# print(get_neigh_sum(cstate, 0, 0, 0))\n",
    "# update(xr, yr, zr)\n",
    "\n",
    "sum(cstate.values())"
   ]
  },
  {
   "cell_type": "code",
   "execution_count": 89,
   "metadata": {},
   "outputs": [
    {
     "output_type": "execute_result",
     "data": {
      "text/plain": [
       "1620"
      ]
     },
     "metadata": {},
     "execution_count": 89
    }
   ],
   "source": [
    "import copy\n",
    "\n",
    "from itertools import product\n",
    "def get_neigh_sum(state, x, y, z, w):\n",
    "    neighs = list(product([x-1, x, x+1], [y-1, y, y+1], [z-1, z, z+1], [w-1, w, w+1]))\n",
    "    neighs.remove((x, y, z, w))\n",
    "    s = 0\n",
    "    for neigh in neighs:\n",
    "        s += state.get(neigh, 0)\n",
    "\n",
    "    return s\n",
    "\n",
    "def update(old_state, xr, yr, zr, wr):\n",
    "    new_state = copy.copy(old_state)\n",
    "    for x in range(xr[0]-1, xr[1]+2):\n",
    "        for y in range(yr[0]-1, yr[1]+2):\n",
    "            for z in range(zr[0]-1, zr[1]+2):\n",
    "                for w in range(wr[0]-1, wr[1]+2):\n",
    "                    val = old_state.get((x, y, z, w), 0)\n",
    "                    \n",
    "                    n = get_neigh_sum(old_state, x, y, z, w)\n",
    "                    \n",
    "                    if val == 0 and n == 3:\n",
    "                        new_state[(x, y, z, w)] = 1\n",
    "                    if val == 1 and n not in [2, 3]:\n",
    "                        del(new_state[(x, y, z, w)])\n",
    "\n",
    "    return new_state\n",
    "\n",
    "init = [list(i) for i in open('day17.txt').read().split('\\n')]\n",
    "coord_i = dict()\n",
    "cstate = dict()\n",
    "for j, row in enumerate(init):\n",
    "    for i, val in enumerate(row):\n",
    "        if val == '#':\n",
    "            cstate[(i, j, 0, 0)] = 1\n",
    "        else:\n",
    "            coord_i[(i, j)] = 0\n",
    "\n",
    "for i in range(6):\n",
    "    xr = (min(i[0] for i in cstate), max(i[0] for i in cstate))\n",
    "    yr = (min(i[1] for i in cstate), max(i[1] for i in cstate))\n",
    "    zr = (min(i[2] for i in cstate), max(i[2] for i in cstate))\n",
    "    wr = (min(i[3] for i in cstate), max(i[3] for i in cstate))\n",
    "    cstate = update(cstate, xr, yr, zr, wr)\n",
    "\n",
    "sum(cstate.values())"
   ]
  },
  {
   "cell_type": "code",
   "execution_count": null,
   "metadata": {},
   "outputs": [],
   "source": []
  }
 ]
}