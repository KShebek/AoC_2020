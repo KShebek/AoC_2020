{
 "metadata": {
  "language_info": {
   "codemirror_mode": {
    "name": "ipython",
    "version": 3
   },
   "file_extension": ".py",
   "mimetype": "text/x-python",
   "name": "python",
   "nbconvert_exporter": "python",
   "pygments_lexer": "ipython3",
   "version": "3.7.9-final"
  },
  "orig_nbformat": 2,
  "kernelspec": {
   "name": "python3",
   "display_name": "Python 3",
   "language": "python"
  }
 },
 "nbformat": 4,
 "nbformat_minor": 2,
 "cells": [
  {
   "cell_type": "code",
   "execution_count": 20,
   "metadata": {},
   "outputs": [],
   "source": [
    "est, data = open('day13.txt').readlines()\n",
    "est = int(est.strip())\n",
    "data = [int(i) for i in data.strip('n').split(',') if i != 'x']\n"
   ]
  },
  {
   "cell_type": "code",
   "execution_count": 205,
   "metadata": {},
   "outputs": [
    {
     "output_type": "stream",
     "name": "stdout",
     "text": [
      "725850285300475\n"
     ]
    }
   ],
   "source": [
    "import operator\n",
    "from functools import reduce\n",
    "est, data = open('day13.txt').readlines()\n",
    "data = data.split(',')\n",
    "\n",
    "# yanked from https://rosettacode.org/wiki/Chinese_remainder_theorem\n",
    "def chinese_remainder(n, a):\n",
    "    def mul_inv(a, b):\n",
    "        b0 = b\n",
    "        x0, x1 = 0, 1\n",
    "        if b == 1:\n",
    "            return 1\n",
    "        while a > 1:\n",
    "            q = a // b\n",
    "            a, b = b, a%b\n",
    "            x0, x1 = x1 - q * x0, x0\n",
    "        if x1 < 0: x1 += b0\n",
    "        return x1\n",
    "    s = 0\n",
    "    prod = reduce(operator.mul, n)\n",
    "    for n_i, a_i in zip(n, a):\n",
    "        p = prod // n_i\n",
    "        s += a_i * mul_inv(p, n_i) * p\n",
    "    return s % prod\n",
    "\n",
    "\n",
    "a, n = [], []\n",
    "for i, x in enumerate(data):\n",
    "    if x == 'x':\n",
    "        continue\n",
    "    x = int(x)\n",
    "    a.append(x - i % x)\n",
    "    n.append(x)\n",
    "\n",
    "print(chinese_remainder(n, a))"
   ]
  }
 ]
}