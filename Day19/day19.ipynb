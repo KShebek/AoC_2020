{
 "metadata": {
  "language_info": {
   "codemirror_mode": {
    "name": "ipython",
    "version": 3
   },
   "file_extension": ".py",
   "mimetype": "text/x-python",
   "name": "python",
   "nbconvert_exporter": "python",
   "pygments_lexer": "ipython3",
   "version": "3.7.6-final"
  },
  "orig_nbformat": 2,
  "kernelspec": {
   "name": "python3",
   "display_name": "Python 3",
   "language": "python"
  }
 },
 "nbformat": 4,
 "nbformat_minor": 2,
 "cells": [
  {
   "cell_type": "code",
   "execution_count": 216,
   "metadata": {
    "tags": []
   },
   "outputs": [
    {
     "output_type": "stream",
     "name": "stdout",
     "text": [
      "breaking\n"
     ]
    },
    {
     "output_type": "error",
     "ename": "KeyError",
     "evalue": "'0'",
     "traceback": [
      "\u001b[0;31m---------------------------------------------------------------------------\u001b[0m",
      "\u001b[0;31mKeyError\u001b[0m                                  Traceback (most recent call last)",
      "\u001b[0;32m<ipython-input-216-e6b05fe2a9c8>\u001b[0m in \u001b[0;36m<module>\u001b[0;34m\u001b[0m\n\u001b[1;32m     68\u001b[0m \u001b[0mrules\u001b[0m\u001b[0;34m\u001b[0m\u001b[0;34m\u001b[0m\u001b[0m\n\u001b[1;32m     69\u001b[0m \u001b[0;32mfor\u001b[0m \u001b[0mval\u001b[0m \u001b[0;32min\u001b[0m \u001b[0minvals\u001b[0m\u001b[0;34m:\u001b[0m\u001b[0;34m\u001b[0m\u001b[0;34m\u001b[0m\u001b[0m\n\u001b[0;32m---> 70\u001b[0;31m     \u001b[0;32mif\u001b[0m \u001b[0mval\u001b[0m \u001b[0;32min\u001b[0m \u001b[0mrules\u001b[0m\u001b[0;34m[\u001b[0m\u001b[0;34m'0'\u001b[0m\u001b[0;34m]\u001b[0m\u001b[0;34m:\u001b[0m\u001b[0;34m\u001b[0m\u001b[0;34m\u001b[0m\u001b[0m\n\u001b[0m\u001b[1;32m     71\u001b[0m         \u001b[0ms\u001b[0m \u001b[0;34m+=\u001b[0m \u001b[0;36m1\u001b[0m\u001b[0;34m\u001b[0m\u001b[0;34m\u001b[0m\u001b[0m\n\u001b[1;32m     72\u001b[0m \u001b[0ms\u001b[0m\u001b[0;34m\u001b[0m\u001b[0;34m\u001b[0m\u001b[0m\n",
      "\u001b[0;31mKeyError\u001b[0m: '0'"
     ]
    }
   ],
   "source": [
    "import re\n",
    "from itertools import product\n",
    "data, invals = open('day19.txt').read().split('\\n\\n')\n",
    "data = data.split('\\n')\n",
    "invals = invals.split('\\n')\n",
    "rules = dict()\n",
    "\n",
    "def flatten(foo):\n",
    "    for x in foo:\n",
    "        if hasattr(x, '__iter__') and not isinstance(x, str):\n",
    "            for y in flatten(x):\n",
    "                yield y\n",
    "        else:\n",
    "            yield x\n",
    "\n",
    "def reduce_rule(n):\n",
    "    r = rules.get(n, False)\n",
    "    if type(r) == str:\n",
    "        return r\n",
    "    else:\n",
    "        return \n",
    "\n",
    "def make_rule(l):\n",
    "    if all([i in rules for i in l]):\n",
    "        base_rules = [rules[i] for i in l]\n",
    "        base_rules = list(product(*base_rules))\n",
    "        return [''.join(list(i)) for i in base_rules]\n",
    "    else:\n",
    "        return False\n",
    "\n",
    "j = 0\n",
    "i = 0\n",
    "while data:\n",
    "\n",
    "    split_i = data[i].split(': ')\n",
    "    \n",
    "    if split_i[1] in [r'\"a\"', r'\"b\"']:\n",
    "        rules[split_i[0]] = split_i[1][1]\n",
    "        data.pop(i)\n",
    "\n",
    "    else:\n",
    "        rule = [i.split(' ') for i in split_i[1].split(' | ')]\n",
    "        if type(rule[0]) == list:\n",
    "            new_rule = [make_rule(i) for i in rule]\n",
    "            if all(new_rule):\n",
    "                rules[split_i[0]] = list(flatten(new_rule))\n",
    "                data.pop(i)\n",
    "    \n",
    "    i += 1\n",
    "    j += 1\n",
    "    if i >= len(data):\n",
    "        i = 0\n",
    "     \n",
    "    if j >= 500:\n",
    "        print('breaking')\n",
    "        break\n",
    "\n",
    "\n",
    "\n",
    "\n",
    "\n",
    "\n",
    "s = 0\n",
    "rules\n",
    "for val in invals:\n",
    "    if val in rules['0']:\n",
    "        s += 1\n",
    "s"
   ]
  },
  {
   "cell_type": "code",
   "execution_count": 217,
   "metadata": {},
   "outputs": [
    {
     "output_type": "execute_result",
     "data": {
      "text/plain": [
       "['11: 42 31 | 42 11 31', '0: 8 11', '8: 42 | 42 8']"
      ]
     },
     "metadata": {},
     "execution_count": 217
    }
   ],
   "source": [
    "data"
   ]
  },
  {
   "cell_type": "code",
   "execution_count": 237,
   "metadata": {
    "tags": []
   },
   "outputs": [
    {
     "output_type": "stream",
     "name": "stdout",
     "text": [
      "babbbaaaababbaabbbbabababbbabbbbbbabaaaa \n\nbbaabaabba \n\nbaabbbbbabbbbbbaabaaabaaa \n\nbbbbaaaabaababaabababbabaaabbababababaaa \n\nbbaaaabbbbaaabbabaaa \n\nabbbbaaaaaaaabbababaaababaabab \n\naaaaabaaab \n\naaaabbbaba \n\naaaabbaaaababbaababb \n\nabbbbaaaababbbbbbaaaababb \n\nbbaabaaaaababaa \n\nbaaaabbaaa \n\nbaabbaaaaaaabbbabbbaaabbaabaaa \n\nbbaabbbaaaaaabbbbbababaaaaabbaaabba \n\n"
     ]
    },
    {
     "output_type": "execute_result",
     "data": {
      "text/plain": [
       "0"
      ]
     },
     "metadata": {},
     "execution_count": 237
    }
   ],
   "source": [
    "for val in invals:\n",
    "    matched = False\n",
    "    for i in rules['42']:\n",
    "        t_val = val\n",
    "        while True:\n",
    "            if t_val.startswith(i):            \n",
    "            t_val = t_val[len(i):]\n",
    "            if t_val == i:\n",
    "                matched = True\n",
    "                break\n",
    "            elif len(t_val) < len(i):\n",
    "                break\n",
    "\n",
    "            elif not t_val.startswith(i):\n",
    "                break\n",
    "            print(t_val, '\\n')\n",
    "\n",
    "        if matched:\n",
    "            s += 1\n",
    "            break\n",
    "            \n",
    "s"
   ]
  },
  {
   "cell_type": "code",
   "execution_count": 193,
   "metadata": {},
   "outputs": [],
   "source": [
    "def make_rule(l):\n",
    "    print(l)\n",
    "    print([i in rules for i in l])\n",
    "    if all([i in rules for i in l]):\n",
    "        base_rules = [rules[i] for i in l]\n",
    "        # if all([type(i) == str for i in base_rules]):\n",
    "        #     return ''.join(base_rules)\n",
    "        # else:\n",
    "        base_rules = list(product(*base_rules))\n",
    "        return [''.join(list(i)) for i in base_rules]\n",
    "        # return base_rules\n",
    "    else:\n",
    "        return False"
   ]
  },
  {
   "cell_type": "code",
   "execution_count": 205,
   "metadata": {},
   "outputs": [
    {
     "output_type": "execute_result",
     "data": {
      "text/plain": [
       "False"
      ]
     },
     "metadata": {},
     "execution_count": 205
    }
   ],
   "source": [
    "all([False, False])"
   ]
  },
  {
   "cell_type": "code",
   "execution_count": 196,
   "metadata": {},
   "outputs": [
    {
     "output_type": "stream",
     "name": "stdout",
     "text": [
      "['7', '92']\n[False, True]\n"
     ]
    },
    {
     "output_type": "execute_result",
     "data": {
      "text/plain": [
       "False"
      ]
     },
     "metadata": {},
     "execution_count": 196
    }
   ],
   "source": [
    "split_i = data[i].split(': ')\n",
    "make_rule(split_i[1].split(' | ')[0].split(' '))\n"
   ]
  },
  {
   "cell_type": "code",
   "execution_count": 209,
   "metadata": {},
   "outputs": [
    {
     "output_type": "execute_result",
     "data": {
      "text/plain": [
       "0"
      ]
     },
     "metadata": {},
     "execution_count": 209
    }
   ],
   "source": [
    "len(data)"
   ]
  },
  {
   "cell_type": "code",
   "execution_count": 244,
   "metadata": {},
   "outputs": [
    {
     "output_type": "stream",
     "name": "stdout",
     "text": [
      "412\n"
     ]
    }
   ],
   "source": [
    "part = 2\n",
    "rules, msgs = open('day19.txt').read().split('\\n\\n')\n",
    "ruleset={}\n",
    "for rule in rules.split('\\n'):\n",
    "    key, val = rule.split(': ')\n",
    "    ruleset[key]=val\n",
    "\n",
    "if part==2:\n",
    "    ruleset['8'] = '42 | 42 8'\n",
    "    ruleset['11'] = '42 31 | 42 11 31'\n",
    "\n",
    "def match(string, ptr, rule):\n",
    "    global ruleset\n",
    "    if rule[0]=='\"':\n",
    "        if ptr<len(string) and string[ptr] == rule[1]:\n",
    "            yield ptr+1\n",
    "        return\n",
    "    \n",
    "    for alt in rule.split(' | '):\n",
    "        tokens = alt.split(' ',1)\n",
    "        if len(tokens)==1:\n",
    "            yield from match(string, ptr, ruleset[tokens[0]])\n",
    "        else:\n",
    "            for m in match(string, ptr, ruleset[tokens[0]]):\n",
    "                yield from match(string, m, tokens[1])\n",
    "\n",
    "bool = [1 if any(m==len(string) for m in match(string, 0, '0')) else 0\n",
    "       for string in msgs.split('\\n')]\n",
    "print(sum(bool))       \n",
    "\n"
   ]
  }
 ]
}