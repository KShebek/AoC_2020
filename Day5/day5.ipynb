{
 "metadata": {
  "language_info": {
   "codemirror_mode": {
    "name": "ipython",
    "version": 3
   },
   "file_extension": ".py",
   "mimetype": "text/x-python",
   "name": "python",
   "nbconvert_exporter": "python",
   "pygments_lexer": "ipython3",
   "version": "3.7.6-final"
  },
  "orig_nbformat": 2,
  "kernelspec": {
   "name": "python3",
   "display_name": "Python 3"
  }
 },
 "nbformat": 4,
 "nbformat_minor": 2,
 "cells": [
  {
   "cell_type": "code",
   "execution_count": 1,
   "metadata": {},
   "outputs": [],
   "source": [
    "from math import floor, ceil\n",
    "\n",
    "# First pass using recursion\n",
    "def proc(v, part=1):\n",
    "    ans = proc_help(v, x=[0, 127], y=[0, 7])\n",
    "    if part==2:\n",
    "        if ans[0] in [0, 127] or ans[1] in [0, 7]:\n",
    "            return (0, 0)\n",
    "    return ans\n",
    "\n",
    "def proc_help(v, x=[0, 127], y=[0, 7]):\n",
    "    v0 = v.pop(0)\n",
    "    if v0 == 'B': x[0] = ceil(x[0] + (x[1] - x[0])/2)\n",
    "    elif v0 == 'F': x[1] = floor(x[1] - (x[1] - x[0])/2)\n",
    "    elif v0 == 'L': y[1] = floor(y[1] - (-y[0] + y[1])/2)\n",
    "    elif v0 == 'R': y[0] = ceil(y[0] + (-y[0] + y[1])/2)\n",
    "\n",
    "    if len(v) == 0:\n",
    "        return x[0], y[0]\n",
    "    else:        \n",
    "        return proc_help(v, x, y)\n",
    "\n",
    "def bproc(v):\n",
    "    return (int(v[:-3].replace('F', '0').replace('B', '1'), 2),\n",
    "            int(v[-3:].replace('L', '0').replace('R', '1'), 2))\n"
   ]
  },
  {
   "cell_type": "code",
   "execution_count": 3,
   "metadata": {
    "tags": []
   },
   "outputs": [
    {
     "output_type": "stream",
     "name": "stdout",
     "text": [
      "864\n739\n"
     ]
    }
   ],
   "source": [
    "with open('day5.txt') as f:\n",
    "    bdata = [i.strip(\"\\n\") for i in f.readlines()]\n",
    "    rdata = [list(i) for i in bdata]\n",
    "    \n",
    "rl = list(map(proc, rdata))\n",
    "bl = list(map(bproc, bdata))\n",
    "ids = sorted(list(map(lambda x: x[0]*8 + x[1], bl)))\n",
    "print(max(ids))\n",
    "\n",
    "s = list(map(lambda x: x[1]-x[0], zip(ids, ids[1:])))\n",
    "print(ids[s.index(2)] + 1)"
   ]
  },
  {
   "cell_type": "code",
   "execution_count": 8,
   "metadata": {},
   "outputs": [
    {
     "output_type": "stream",
     "name": "stdout",
     "text": [
      "Part One: 864\nPart Two: 739\n"
     ]
    }
   ],
   "source": [
    "# More efficient way using binary to int\n",
    "def bproc(v):\n",
    "    return (int(v[:-3].replace('F', '0').replace('B', '1'), 2),\n",
    "            int(v[-3:].replace('L', '0').replace('R', '1'), 2))\n",
    "\n",
    "bdata = [i.strip(\"\\n\") for i in open('day5.txt').readlines()]\n",
    "ids = sorted(list(map(lambda x: x[0]*8 + x[1], bl)))\n",
    "i = list(map(lambda x: x[1]-x[0], zip(ids, ids[1:]))).index(2)\n",
    "\n",
    "print('Part One:', max(ids))\n",
    "print('Part Two:', ids[i] + 1)"
   ]
  }
 ]
}