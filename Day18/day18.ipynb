{
 "metadata": {
  "language_info": {
   "codemirror_mode": {
    "name": "ipython",
    "version": 3
   },
   "file_extension": ".py",
   "mimetype": "text/x-python",
   "name": "python",
   "nbconvert_exporter": "python",
   "pygments_lexer": "ipython3",
   "version": "3.7.6-final"
  },
  "orig_nbformat": 2,
  "kernelspec": {
   "name": "python3",
   "display_name": "Python 3",
   "language": "python"
  }
 },
 "nbformat": 4,
 "nbformat_minor": 2,
 "cells": [
  {
   "source": [
    "## Today I wrote code that \"worked\" but was nasty. After googling I found the Shunting-yard algorithm and grabbed an implementation of this from github.\n",
    "\n",
    "Code parses input int reverse polish notation and then evaluates that.\n",
    "\n",
    "https://gist.github.com/Ohmnivore/f40887e44dbdde73e1d4\n",
    "So thanks to Ohmivore!\n"
   ],
   "cell_type": "markdown",
   "metadata": {}
  },
  {
   "cell_type": "code",
   "execution_count": 227,
   "metadata": {},
   "outputs": [],
   "source": [
    "# Algorithm description taken from here:\n",
    "# https://en.wikipedia.org/wiki/Shunting-yard_algorithm#The_algorithm_in_detail\n",
    "\n",
    "def calc(test):\n",
    "    associativity = {'+': False, '-': False, '*': False} #False = left, True = right\n",
    "    precedence = {'+': 3, '-': 2, '*': 2}\n",
    "    i = 0\n",
    "    out = []\n",
    "    stack = []\n",
    "\n",
    "    def peek(l):\n",
    "        if (len(l) == 0):\n",
    "            return None\n",
    "        else:\n",
    "            return l[len(l) - 1]\n",
    "\n",
    "    # While there are tokens to be read:\n",
    "    while (i < len(test)):\n",
    "        # Read a token.\n",
    "        tok = test[i]\n",
    "\n",
    "        # If the token is a number, then add it to the output queue.\n",
    "        if (tok.isdigit() or tok is 'a' or tok is 'b' or tok is 'c' or tok is 'd'):\n",
    "            out.append(tok)\n",
    "        # If the token is a function token, then push it onto the stack.\n",
    "        elif (tok is 'f'):\n",
    "            stack.append(tok)\n",
    "        # If the token is a function argument separator (e.g., a comma):\n",
    "        elif (tok is ','):\n",
    "            # Until the token at the top of the stack is a left parenthesis, pop operators off the stack onto the output queue. If no left parentheses are encountered, either the separator was misplaced or parentheses were mismatched.\n",
    "            while (peek(stack) != '('):\n",
    "                out.append(stack.pop())\n",
    "        # If the token is an operator, o1, then:\n",
    "        elif (tok is '+' or tok is '*' or tok is '-'):\n",
    "            # while there is an operator token, o2, at the top of the operator stack, and either\n",
    "            hasOp = len(stack) > 0\n",
    "            if (hasOp):\n",
    "                op2 = peek(stack)\n",
    "                hasOp = op2 == '+' or op2 == '*' or op2 == '-' # check if is an operator\n",
    "            # o1 is left-associative and its precedence is less than or equal to that of o2,\n",
    "            # or\n",
    "            # o1 is right associative, and has precedence less than that of o2,\n",
    "            if (hasOp):\n",
    "                cond1 = not associativity[tok] and precedence[tok] <= precedence[op2]\n",
    "                cond2 = associativity[tok] and precedence[tok] < precedence[op2]\n",
    "                while (hasOp and (cond1 or cond2)):\n",
    "                    #then pop o2 off the operator stack, onto the output queue;\n",
    "                    out.append(stack.pop())\n",
    "                    hasOp = len(stack) > 0\n",
    "                    if (hasOp):\n",
    "                        op2 = peek(stack)\n",
    "                        hasOp = op2 == '+' or op2 == '*' or op2 == '-' #check if is an operator\n",
    "                    if (hasOp):\n",
    "                        cond1 = not associativity[tok] and precedence[tok] <= precedence[op2]\n",
    "                        cond2 = associativity[tok] and precedence[tok] < precedence[op2]\n",
    "            # push o1 onto the operator stack.\n",
    "            stack.append(tok)\n",
    "        # If the token is a left parenthesis (i.e. \"(\"), then push it onto the stack.\n",
    "        elif (tok is '('):\n",
    "            stack.append(tok)\n",
    "        # If the token is a right parenthesis (i.e. \")\"):\n",
    "        elif (tok is ')'):\n",
    "            # Until the token at the top of the stack is a left parenthesis, pop operators off the stack onto the output queue.\n",
    "            while (True):\n",
    "                if (len(stack) > 0):\n",
    "                    tok = peek(stack)\n",
    "                    if (tok is '('):\n",
    "                        # Pop the left parenthesis from the stack, but not onto the output queue.\n",
    "                        stack.pop()\n",
    "                        break\n",
    "                    else:\n",
    "                        out.append(stack.pop())\n",
    "                else:\n",
    "                    break\n",
    "            # If the token at the top of the stack is a function token, pop it onto the output queue.\n",
    "            if (len(stack) > 0):\n",
    "                tok = peek(stack)\n",
    "                if (tok is 'f'):\n",
    "                    out.append(stack.pop())\n",
    "\n",
    "        i += 1\n",
    "\n",
    "    # When there are no more tokens to read:\n",
    "    # While there are still operator tokens in the stack:\n",
    "    # Pop the operator onto the output queue.\n",
    "    while (len(stack) > 0):\n",
    "        out.append(stack.pop())\n",
    "\n",
    "    return out"
   ]
  },
  {
   "cell_type": "code",
   "execution_count": 222,
   "metadata": {},
   "outputs": [
    {
     "output_type": "execute_result",
     "data": {
      "text/plain": [
       "13632"
      ]
     },
     "metadata": {},
     "execution_count": 222
    }
   ],
   "source": [
    "def evalRPN(tokens) -> int:\n",
    "    l=[]\n",
    "    for i in tokens:\n",
    "        if(i=='+' or i=='-' or i=='*' or i=='/'):\n",
    "            a=l.pop(-1)\n",
    "            b=l.pop(-1)\n",
    "            g=b+i+a\n",
    "            w=eval(g)\n",
    "            e=int(w)\n",
    "            l.append(str(e))\n",
    "        else:\n",
    "            l.append(i)\n",
    "    return int(l[0])\n",
    "\n",
    "evalRPN(out)"
   ]
  },
  {
   "source": [
    "# Actual evaluation\n",
    "## Part one precedence\n",
    "precedence = {'+': 2, '-': 2, '*': 2}\n",
    "\n",
    "## Part two precedence\n",
    "precedence = {'+': 3, '-': 2, '*': 2}"
   ],
   "cell_type": "markdown",
   "metadata": {}
  },
  {
   "cell_type": "code",
   "execution_count": 226,
   "metadata": {},
   "outputs": [
    {
     "output_type": "execute_result",
     "data": {
      "text/plain": [
       "60807587180737"
      ]
     },
     "metadata": {},
     "execution_count": 226
    }
   ],
   "source": [
    "s = 0\n",
    "for i in open('day18.txt').read().split('\\n'):\n",
    "    s += evalRPN(calc(i))"
   ]
  }
 ]
}