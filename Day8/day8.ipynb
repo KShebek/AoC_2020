{
 "metadata": {
  "language_info": {
   "codemirror_mode": {
    "name": "ipython",
    "version": 3
   },
   "file_extension": ".py",
   "mimetype": "text/x-python",
   "name": "python",
   "nbconvert_exporter": "python",
   "pygments_lexer": "ipython3",
   "version": "3.7.9-final"
  },
  "orig_nbformat": 2,
  "kernelspec": {
   "name": "python3",
   "display_name": "Python 3"
  }
 },
 "nbformat": 4,
 "nbformat_minor": 2,
 "cells": [
  {
   "cell_type": "code",
   "execution_count": 2,
   "metadata": {
    "tags": []
   },
   "outputs": [
    {
     "output_type": "stream",
     "name": "stdout",
     "text": [
      "5\n"
     ]
    }
   ],
   "source": [
    "data = [i.split(' ') + [None] for i in open('day8.txt').read().split('\\n')]\n",
    "sign = {'+': 1, '-': -1}\n",
    "\n",
    "# Keep track of location\n",
    "i = 0\n",
    "new_i = 0\n",
    "# accumulator\n",
    "acc = [0]\n",
    "# init state\n",
    "data[0][2] = 0\n",
    "# loop through commands until collision\n",
    "while True:\n",
    "    op = data[i][0]\n",
    "    dval = 0\n",
    "    \n",
    "    if op == 'nop':\n",
    "        new_i += 1\n",
    "\n",
    "    elif op == 'acc':        \n",
    "        new_i += 1\n",
    "        dval = sign[data[i][1][0]]*int(data[i][1][1:])\n",
    "\n",
    "    elif op == 'jmp':\n",
    "        new_i += sign[data[i][1][0]]*int(data[i][1][1:])\n",
    "\n",
    "    if data[new_i][2]:\n",
    "        print(acc[-1])\n",
    "        break\n",
    "\n",
    "    acc.append(acc[-1] + dval)\n",
    "    data[new_i][2] = data[i][2] + dval\n",
    "    i = new_i"
   ]
  },
  {
   "cell_type": "code",
   "execution_count": 36,
   "metadata": {},
   "outputs": [],
   "source": [
    "# Part two\n",
    "# Turn part 1 into function to loop over\n",
    "\n",
    "def check_change(data):\n",
    "    i = 0\n",
    "    new_i = 0\n",
    "    acc = [0]\n",
    "\n",
    "    sign = {'+': 1, '-': -1}\n",
    "    data[0][2] = 0\n",
    "    while True:\n",
    "        op = data[i][0]\n",
    "        dval = 0\n",
    "        # print(data[i])\n",
    "        if op == 'nop':\n",
    "            new_i += 1\n",
    "\n",
    "        elif op == 'acc':        \n",
    "            new_i += 1\n",
    "            dval = sign[data[i][1][0]]*int(data[i][1][1:])\n",
    "\n",
    "        elif op == 'jmp':\n",
    "            new_i += sign[data[i][1][0]]*int(data[i][1][1:])\n",
    "\n",
    "        # finished commands\n",
    "        if new_i > len(data)-1:\n",
    "            acc.append(acc[-1] + dval)\n",
    "            print(acc[-1])\n",
    "            return True\n",
    "        \n",
    "        # collision\n",
    "        elif data[new_i][2]:\n",
    "            # print(acc[-1])\n",
    "            return False\n",
    "        # infinite loops associated with jmp +0\n",
    "        elif i == new_i:\n",
    "            return False\n",
    "\n",
    "        acc.append(acc[-1] + dval)\n",
    "        data[new_i][2] = data[i][2] + dval\n",
    "        i = new_i"
   ]
  },
  {
   "cell_type": "code",
   "execution_count": 38,
   "metadata": {},
   "outputs": [
    {
     "output_type": "stream",
     "name": "stdout",
     "text": [
      "509\ntrue 216 jmp\n"
     ]
    }
   ],
   "source": [
    "import copy\n",
    "data = [i.split(' ') + [None] for i in open('day8.txt').read().split('\\n')]\n",
    "\n",
    "for i, v in enumerate(data):\n",
    "    # print(v)\n",
    "    if v[0] == 'jmp':\n",
    "        new_data = copy.deepcopy(data)\n",
    "        new_data[i][0] = 'nop'\n",
    "        if check_change(new_data):\n",
    "            print('true', i, v[0])\n",
    "    \n",
    "    if v[0] == 'nop':\n",
    "        new_data = copy.deepcopy(data)\n",
    "        new_data[i][0] = 'jmp'\n",
    "        if check_change(new_data):\n",
    "            print('true', i, v[0])"
   ]
  }
 ]
}