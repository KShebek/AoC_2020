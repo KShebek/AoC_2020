{
 "metadata": {
  "language_info": {
   "codemirror_mode": {
    "name": "ipython",
    "version": 3
   },
   "file_extension": ".py",
   "mimetype": "text/x-python",
   "name": "python",
   "nbconvert_exporter": "python",
   "pygments_lexer": "ipython3",
   "version": "3.7.6-final"
  },
  "orig_nbformat": 2,
  "kernelspec": {
   "name": "python3",
   "display_name": "Python 3"
  }
 },
 "nbformat": 4,
 "nbformat_minor": 2,
 "cells": [
  {
   "cell_type": "code",
   "execution_count": 153,
   "metadata": {
    "tags": []
   },
   "outputs": [
    {
     "output_type": "stream",
     "name": "stdout",
     "text": [
      "Part 1: 6430\nPart 2: 3125\n"
     ]
    }
   ],
   "source": [
    "d = [i.split('\\n') for i in open('day6.txt').read().split('\\n\\n')]\n",
    "\n",
    "sets = [set().union(*[set(j) for j in k]) for i, k in enumerate(d)]\n",
    "sets2 = [sets[i].intersection(*[set(j) for j in k]) for i, k in enumerate(d)]\n",
    "\n",
    "print('Part 1:', sum(map(len, sets)))\n",
    "print('Part 2:', sum(map(len, sets2)))"
   ]
  }
 ]
}