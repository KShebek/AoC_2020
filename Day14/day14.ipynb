{
 "metadata": {
  "language_info": {
   "codemirror_mode": {
    "name": "ipython",
    "version": 3
   },
   "file_extension": ".py",
   "mimetype": "text/x-python",
   "name": "python",
   "nbconvert_exporter": "python",
   "pygments_lexer": "ipython3",
   "version": "3.7.9-final"
  },
  "orig_nbformat": 2,
  "kernelspec": {
   "name": "python3",
   "display_name": "Python 3",
   "language": "python"
  }
 },
 "nbformat": 4,
 "nbformat_minor": 2,
 "cells": [
  {
   "source": [
    "## Never knew about bitmasks so today was a bit of an adventure... I implemented the solution without reading too much about it, but I looked up a better solution "
   ],
   "cell_type": "markdown",
   "metadata": {}
  },
  {
   "cell_type": "code",
   "execution_count": 25,
   "metadata": {},
   "outputs": [],
   "source": [
    "from itertools import permutations\n",
    "\n",
    "def modifyBit( n,  p,  b): \n",
    "    mask = 1 << p \n",
    "    return (n & ~mask) | ((b << p) & mask)\n",
    "\n",
    "def apply_mask(n, mask):\n",
    "    for val, bit in mask:\n",
    "        if val == 1:\n",
    "            n = modifyBit(int(n), int(bit), int(val))\n",
    "    \n",
    "    return n\n",
    "\n",
    "\n",
    "def apply_mask2(n, mask, ind):\n",
    "    x_info = [i[1] for  i in mask if i[0] == 'X']\n",
    "    nX = len(x_info)\n",
    "\n",
    "    bit_perm = set(permutations([1]*nX + [0]*nX, nX))\n",
    "    print(len(bit_perm))\n",
    "    for val, bit in mask:\n",
    "        if val == 1:\n",
    "            ind = modifyBit(ind, bit, val)\n",
    "\n",
    "    # print(bin(n), n)\n",
    "\n",
    "    inds = []\n",
    "    i = 1\n",
    "    print('\\n\\n')\n",
    "    for perm in bit_perm:\n",
    "        i += 1\n",
    "        # print(i)\n",
    "        perm = list(perm)\n",
    "        p_ind = ind\n",
    "        for x_loc in x_info:\n",
    "            p_ind = modifyBit(int(p_ind), int(x_loc), perm.pop())\n",
    "\n",
    "        inds.append(p_ind)\n",
    "    \n",
    "    return {ind:n for ind in inds}"
   ]
  },
  {
   "cell_type": "code",
   "execution_count": 29,
   "metadata": {
    "tags": []
   },
   "outputs": [
    {
     "output_type": "stream",
     "name": "stdout",
     "text": [
      "mem[5155] = 1869813\n\nhere\n256\n\n\n\n2\nmem[55244] = 25386\n\nhere\n"
     ]
    },
    {
     "output_type": "error",
     "ename": "KeyboardInterrupt",
     "evalue": "",
     "traceback": [
      "\u001b[0;31m---------------------------------------------------------------------------\u001b[0m",
      "\u001b[0;31mKeyboardInterrupt\u001b[0m                         Traceback (most recent call last)",
      "\u001b[0;32m<ipython-input-29-d3ffe0508a11>\u001b[0m in \u001b[0;36m<module>\u001b[0;34m\u001b[0m\n\u001b[1;32m     15\u001b[0m             \u001b[0mprint\u001b[0m\u001b[0;34m(\u001b[0m\u001b[0;34m'here'\u001b[0m\u001b[0;34m)\u001b[0m\u001b[0;34m\u001b[0m\u001b[0;34m\u001b[0m\u001b[0m\n\u001b[1;32m     16\u001b[0m             \u001b[0mind\u001b[0m\u001b[0;34m,\u001b[0m \u001b[0mval\u001b[0m \u001b[0;34m=\u001b[0m \u001b[0mmap\u001b[0m\u001b[0;34m(\u001b[0m\u001b[0mint\u001b[0m\u001b[0;34m,\u001b[0m \u001b[0mre\u001b[0m\u001b[0;34m.\u001b[0m\u001b[0mfindall\u001b[0m\u001b[0;34m(\u001b[0m\u001b[0mpatt\u001b[0m\u001b[0;34m,\u001b[0m \u001b[0mline\u001b[0m\u001b[0;34m)\u001b[0m\u001b[0;34m[\u001b[0m\u001b[0;36m0\u001b[0m\u001b[0;34m]\u001b[0m\u001b[0;34m)\u001b[0m\u001b[0;34m\u001b[0m\u001b[0;34m\u001b[0m\u001b[0m\n\u001b[0;32m---> 17\u001b[0;31m             \u001b[0madds\u001b[0m\u001b[0;34m.\u001b[0m\u001b[0mupdate\u001b[0m\u001b[0;34m(\u001b[0m\u001b[0mapply_mask2\u001b[0m\u001b[0;34m(\u001b[0m\u001b[0mval\u001b[0m\u001b[0;34m,\u001b[0m \u001b[0mmask\u001b[0m\u001b[0;34m,\u001b[0m \u001b[0mind\u001b[0m\u001b[0;34m)\u001b[0m\u001b[0;34m)\u001b[0m\u001b[0;34m\u001b[0m\u001b[0;34m\u001b[0m\u001b[0m\n\u001b[0m\u001b[1;32m     18\u001b[0m \u001b[0;34m\u001b[0m\u001b[0m\n\u001b[1;32m     19\u001b[0m         \u001b[0mi\u001b[0m \u001b[0;34m+=\u001b[0m \u001b[0;36m1\u001b[0m\u001b[0;34m\u001b[0m\u001b[0;34m\u001b[0m\u001b[0m\n",
      "\u001b[0;32m<ipython-input-25-dd40b892ee82>\u001b[0m in \u001b[0;36mapply_mask2\u001b[0;34m(n, mask, ind)\u001b[0m\n\u001b[1;32m     17\u001b[0m     \u001b[0mnX\u001b[0m \u001b[0;34m=\u001b[0m \u001b[0mlen\u001b[0m\u001b[0;34m(\u001b[0m\u001b[0mx_info\u001b[0m\u001b[0;34m)\u001b[0m\u001b[0;34m\u001b[0m\u001b[0;34m\u001b[0m\u001b[0m\n\u001b[1;32m     18\u001b[0m \u001b[0;34m\u001b[0m\u001b[0m\n\u001b[0;32m---> 19\u001b[0;31m     \u001b[0mbit_perm\u001b[0m \u001b[0;34m=\u001b[0m \u001b[0mset\u001b[0m\u001b[0;34m(\u001b[0m\u001b[0mpermutations\u001b[0m\u001b[0;34m(\u001b[0m\u001b[0;34m[\u001b[0m\u001b[0;36m1\u001b[0m\u001b[0;34m]\u001b[0m\u001b[0;34m*\u001b[0m\u001b[0mnX\u001b[0m \u001b[0;34m+\u001b[0m \u001b[0;34m[\u001b[0m\u001b[0;36m0\u001b[0m\u001b[0;34m]\u001b[0m\u001b[0;34m*\u001b[0m\u001b[0mnX\u001b[0m\u001b[0;34m,\u001b[0m \u001b[0mnX\u001b[0m\u001b[0;34m)\u001b[0m\u001b[0;34m)\u001b[0m\u001b[0;34m\u001b[0m\u001b[0;34m\u001b[0m\u001b[0m\n\u001b[0m\u001b[1;32m     20\u001b[0m     \u001b[0mprint\u001b[0m\u001b[0;34m(\u001b[0m\u001b[0mlen\u001b[0m\u001b[0;34m(\u001b[0m\u001b[0mbit_perm\u001b[0m\u001b[0;34m)\u001b[0m\u001b[0;34m)\u001b[0m\u001b[0;34m\u001b[0m\u001b[0;34m\u001b[0m\u001b[0m\n\u001b[1;32m     21\u001b[0m     \u001b[0;32mfor\u001b[0m \u001b[0mval\u001b[0m\u001b[0;34m,\u001b[0m \u001b[0mbit\u001b[0m \u001b[0;32min\u001b[0m \u001b[0mmask\u001b[0m\u001b[0;34m:\u001b[0m\u001b[0;34m\u001b[0m\u001b[0;34m\u001b[0m\u001b[0m\n",
      "\u001b[0;31mKeyboardInterrupt\u001b[0m: "
     ]
    }
   ],
   "source": [
    "import re\n",
    "patt = re.compile(r'mem\\[(\\d+)\\] = (\\d+)')\n",
    "adds = dict()\n",
    "\n",
    "with open('day14.txt') as f:\n",
    "    i = 1\n",
    "    for line in f.readlines()[30:40]:\n",
    "        \n",
    "        print(line)\n",
    "\n",
    "        if line.startswith('mask'):\n",
    "            mask = line.strip('\\n').split(' = ')[1]\n",
    "            mask = [(int(j) if j != 'X' else j, len(mask) - i-1) for i, j in enumerate(mask)]\n",
    "        elif line.startswith('mem'):\n",
    "            print('here')\n",
    "            ind, val = map(int, re.findall(patt, line)[0])\n",
    "            adds.update(apply_mask2(val, mask, ind))\n",
    "        \n",
    "        i += 1\n",
    "        print(i)\n",
    "\n",
    "sum(adds.values())"
   ]
  },
  {
   "cell_type": "code",
   "execution_count": 374,
   "metadata": {
    "tags": []
   },
   "outputs": [
    {
     "output_type": "stream",
     "name": "stdout",
     "text": [
      "{42: 118}\n{42: 118, 26: 1}\n"
     ]
    },
    {
     "output_type": "execute_result",
     "data": {
      "text/plain": [
       "{42: 118, 26: 1}"
      ]
     },
     "metadata": {},
     "execution_count": 374
    }
   ],
   "source": [
    "import re\n",
    "patt = re.compile(r'mem\\[(\\d+)\\] = (\\d+)')\n",
    "adds = dict()\n",
    "\n",
    "with open('day14.txt') as f:\n",
    "    for line in f.readlines():\n",
    "        if line.startswith('mask'):\n",
    "            mask = line.strip('\\n').split(' = ')[1]\n",
    "            mask = [(int(j), len(mask) - i-1) for i, j in enumerate(mask) if j != 'X']\n",
    "        elif line.startswith('mem'):\n",
    "            ind, val = map(int, re.findall(patt, line)[0])\n",
    "            adds[ind] = apply_mask(val, mask)\n",
    "            print(adds)\n",
    "\n",
    "adds"
   ]
  },
  {
   "source": [
    "# Adapted from Online... much, much faster than my solution"
   ],
   "cell_type": "markdown",
   "metadata": {}
  },
  {
   "cell_type": "code",
   "execution_count": 34,
   "metadata": {},
   "outputs": [
    {
     "output_type": "error",
     "ename": "ValueError",
     "evalue": "too many values to unpack (expected 2)",
     "traceback": [
      "\u001b[0;31m---------------------------------------------------------------------------\u001b[0m",
      "\u001b[0;31mValueError\u001b[0m                                Traceback (most recent call last)",
      "\u001b[0;32m<ipython-input-34-c1b1f54c4f26>\u001b[0m in \u001b[0;36m<module>\u001b[0;34m\u001b[0m\n\u001b[1;32m     14\u001b[0m \u001b[0;32mfor\u001b[0m \u001b[0me\u001b[0m \u001b[0;32min\u001b[0m \u001b[0md\u001b[0m\u001b[0;34m:\u001b[0m\u001b[0;34m\u001b[0m\u001b[0;34m\u001b[0m\u001b[0m\n\u001b[1;32m     15\u001b[0m   \u001b[0;32mif\u001b[0m \u001b[0me\u001b[0m\u001b[0;34m.\u001b[0m\u001b[0mstartswith\u001b[0m\u001b[0;34m(\u001b[0m\u001b[0;34m'mask'\u001b[0m\u001b[0;34m)\u001b[0m\u001b[0;34m:\u001b[0m\u001b[0;34m\u001b[0m\u001b[0;34m\u001b[0m\u001b[0m\n\u001b[0;32m---> 16\u001b[0;31m     \u001b[0mm\u001b[0m\u001b[0;34m,\u001b[0m\u001b[0mv\u001b[0m \u001b[0;34m=\u001b[0m \u001b[0mparse_mask\u001b[0m\u001b[0;34m(\u001b[0m\u001b[0me\u001b[0m\u001b[0;34m[\u001b[0m\u001b[0;36m7\u001b[0m\u001b[0;34m:\u001b[0m\u001b[0;34m]\u001b[0m\u001b[0;34m)\u001b[0m\u001b[0;34m\u001b[0m\u001b[0;34m\u001b[0m\u001b[0m\n\u001b[0m\u001b[1;32m     17\u001b[0m   \u001b[0;32melse\u001b[0m\u001b[0;34m:\u001b[0m\u001b[0;34m\u001b[0m\u001b[0;34m\u001b[0m\u001b[0m\n\u001b[1;32m     18\u001b[0m     \u001b[0maddr\u001b[0m \u001b[0;34m=\u001b[0m \u001b[0mint\u001b[0m\u001b[0;34m(\u001b[0m\u001b[0me\u001b[0m\u001b[0;34m[\u001b[0m\u001b[0me\u001b[0m\u001b[0;34m.\u001b[0m\u001b[0mfind\u001b[0m\u001b[0;34m(\u001b[0m\u001b[0;34m'['\u001b[0m\u001b[0;34m)\u001b[0m\u001b[0;34m+\u001b[0m\u001b[0;36m1\u001b[0m\u001b[0;34m:\u001b[0m\u001b[0me\u001b[0m\u001b[0;34m.\u001b[0m\u001b[0mfind\u001b[0m\u001b[0;34m(\u001b[0m\u001b[0;34m']'\u001b[0m\u001b[0;34m)\u001b[0m\u001b[0;34m]\u001b[0m\u001b[0;34m)\u001b[0m\u001b[0;34m;\u001b[0m \u001b[0mvalue\u001b[0m \u001b[0;34m=\u001b[0m \u001b[0mint\u001b[0m\u001b[0;34m(\u001b[0m\u001b[0me\u001b[0m\u001b[0;34m[\u001b[0m\u001b[0me\u001b[0m\u001b[0;34m.\u001b[0m\u001b[0mfind\u001b[0m\u001b[0;34m(\u001b[0m\u001b[0;34m'='\u001b[0m\u001b[0;34m)\u001b[0m\u001b[0;34m+\u001b[0m\u001b[0;36m2\u001b[0m\u001b[0;34m:\u001b[0m\u001b[0;34m]\u001b[0m\u001b[0;34m)\u001b[0m\u001b[0;34m\u001b[0m\u001b[0;34m\u001b[0m\u001b[0m\n",
      "\u001b[0;31mValueError\u001b[0m: too many values to unpack (expected 2)"
     ]
    }
   ],
   "source": [
    "d = open(\"day14.txt\",\"rt\").read().splitlines()\n",
    "W = 36 # tthe input was tested with assert len(e[7:])==W\n",
    "\n",
    "def parse_mask(mask):\n",
    "  m = v = 0\n",
    "  for c in mask:     # X10\n",
    "    mb = int(c=='X') # 100\n",
    "    vb = int(c=='1') # 010\n",
    "    m = (m<<1)|mb\n",
    "    v = (v<<1)|vb\n",
    "  return m,v,\n",
    "\n",
    "mem = {}\n",
    "for e in d:\n",
    "  if e.startswith('mask'):\n",
    "    m,v = parse_mask(e[7:])\n",
    "  else:\n",
    "    addr = int(e[e.find('[')+1:e.find(']')]); value = int(e[e.find('=')+2:])\n",
    "    mem[addr] = v|(m&value)\n",
    "print(sum(mem.values()))\n",
    "\n",
    "mem = {}\n",
    "for e in d:\n",
    "  if e.startswith('mask'):\n",
    "    m,v = parse_mask(e[7:])\n",
    "  else:\n",
    "    addr = int(e[e.find('[')+1:e.find(']')]); value = int(e[e.find('=')+2:])\n",
    "    addr = [addr | v]\n",
    "    for i in range(W):\n",
    "      if m&(2**i):\n",
    "        addr0 = [a & ~(m&(2**i)) for a in addr]\n",
    "        addr1 = [a |  (m&(2**i)) for a in addr]\n",
    "        addr = addr0 + addr1\n",
    "    for a in addr:\n",
    "      mem[a] = value\n",
    "print(sum(mem.values()))"
   ]
  }
 ]
}