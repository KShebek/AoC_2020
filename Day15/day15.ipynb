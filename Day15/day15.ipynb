{
 "metadata": {
  "language_info": {
   "codemirror_mode": {
    "name": "ipython",
    "version": 3
   },
   "file_extension": ".py",
   "mimetype": "text/x-python",
   "name": "python",
   "nbconvert_exporter": "python",
   "pygments_lexer": "ipython3",
   "version": "3.7.6-final"
  },
  "orig_nbformat": 2,
  "kernelspec": {
   "name": "python3",
   "display_name": "Python 3",
   "language": "python"
  }
 },
 "nbformat": 4,
 "nbformat_minor": 2,
 "cells": [
  {
   "cell_type": "code",
   "execution_count": 22,
   "metadata": {},
   "outputs": [
    {
     "output_type": "stream",
     "name": "stdout",
     "text": [
      "17.716189861297607\n"
     ]
    }
   ],
   "source": [
    "data = [2,15,0,9,1,20]\n",
    "last, seen, n = data[-1], {}, 30000000\n",
    "\n",
    "then = time.time()\n",
    "for i, v in enumerate(data[0:-1]): seen[v] = i\n",
    "\n",
    "for i in range(len(data), n): \n",
    "    val = i-1 - seen.get(last, i-1)\n",
    "    seen[last], last = i-1, val\n",
    "\n",
    "last\n",
    "print(time.time() - then)"
   ]
  },
  {
   "cell_type": "code",
   "execution_count": 20,
   "metadata": {},
   "outputs": [
    {
     "output_type": "stream",
     "name": "stdout",
     "text": [
      "9.958417892456055\n"
     ]
    }
   ],
   "source": [
    "# using list instead\n",
    "import time\n",
    "then = time.time()\n",
    "data = [2,15,0,9,1,20]\n",
    "n = 30000000\n",
    "l = n*[0]\n",
    "last_n = data[-1]\n",
    "\n",
    "for i, v in enumerate(data[0:-1], 1): l[v] = i\n",
    "\n",
    "for i in range(len(data), n):\n",
    "    x = l[last_n]\n",
    "    if not x: x = i\n",
    "    l[last_n], last_n = i, i - x\n",
    "\n",
    "last_n\n",
    "print(time.time() - then)"
   ]
  }
 ]
}