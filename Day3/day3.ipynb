{
 "metadata": {
  "language_info": {
   "codemirror_mode": {
    "name": "ipython",
    "version": 3
   },
   "file_extension": ".py",
   "mimetype": "text/x-python",
   "name": "python",
   "nbconvert_exporter": "python",
   "pygments_lexer": "ipython3",
   "version": "3.7.6-final"
  },
  "orig_nbformat": 2,
  "kernelspec": {
   "name": "python3",
   "display_name": "Python 3"
  }
 },
 "nbformat": 4,
 "nbformat_minor": 2,
 "cells": [
  {
   "cell_type": "code",
   "execution_count": 19,
   "metadata": {
    "tags": []
   },
   "outputs": [
    {
     "output_type": "execute_result",
     "data": {
      "text/plain": [
       "6419669520"
      ]
     },
     "metadata": {},
     "execution_count": 19
    }
   ],
   "source": [
    "import operator\n",
    "from functools import reduce\n",
    "from itertools import starmap\n",
    "\n",
    "with open('day3.txt') as f:\n",
    "    data = f.read().split('\\n')\n",
    "\n",
    "def tree(i, j):\n",
    "    return data[i][j%len(data[0])] == '#'\n",
    "\n",
    "di, dj = 3, 1\n",
    "\n",
    "def count(di, dj):\n",
    "    r = 0\n",
    "    i, j = 0, 0\n",
    "    while i < len(data):\n",
    "        r += tree(i, j)\n",
    "        i += di\n",
    "        j += dj\n",
    "    \n",
    "    return r\n",
    "\n",
    "rules = [\n",
    "    [1, 1],\n",
    "    [1, 3],\n",
    "    [1, 5],\n",
    "    [1, 7],\n",
    "    [2, 1]\n",
    "]\n",
    "\n",
    "reduce(operator.mul, list(starmap(count, rules)))"
   ]
  }
 ]
}