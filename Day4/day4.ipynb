{
 "metadata": {
  "language_info": {
   "codemirror_mode": {
    "name": "ipython",
    "version": 3
   },
   "file_extension": ".py",
   "mimetype": "text/x-python",
   "name": "python",
   "nbconvert_exporter": "python",
   "pygments_lexer": "ipython3",
   "version": "3.7.6-final"
  },
  "orig_nbformat": 2,
  "kernelspec": {
   "name": "python3",
   "display_name": "Python 3"
  }
 },
 "nbformat": 4,
 "nbformat_minor": 2,
 "cells": [
  {
   "cell_type": "code",
   "execution_count": 20,
   "metadata": {},
   "outputs": [
    {
     "output_type": "execute_result",
     "data": {
      "text/plain": [
       "196"
      ]
     },
     "metadata": {},
     "execution_count": 20
    }
   ],
   "source": [
    "with open('day4.txt') as f:\n",
    "    data = f.read()\n",
    "    data = data.split('\\n\\n')\n",
    "\n",
    "s = 0\n",
    "req = ['byr', 'iyr', 'eyr', 'hgt', 'hcl', 'ecl', 'pid']\n",
    "for i in data:\n",
    "    i = i.replace('\\n', ' ')\n",
    "    ins = [j.split(':')[0] for j in i.split(' ')]\n",
    "\n",
    "    fields = [True if r in i else False for r in req]\n",
    "    if all(fields):\n",
    "        s += 1   "
   ]
  },
  {
   "cell_type": "code",
   "execution_count": 1,
   "metadata": {
    "tags": []
   },
   "outputs": [
    {
     "output_type": "execute_result",
     "data": {
      "text/plain": [
       "114"
      ]
     },
     "metadata": {},
     "execution_count": 1
    }
   ],
   "source": [
    "import re\n",
    "with open('day4.txt') as f:\n",
    "    data = f.read()\n",
    "    data = data.split('\\n\\n')\n",
    "\n",
    "s = 0\n",
    "req = ['byr', 'iyr', 'eyr', 'hgt', 'hcl', 'ecl', 'pid']\n",
    "for i in data:\n",
    "    i = i.replace('\\n', ' ')\n",
    "    ins = {j.split(':')[0]:j.split(':')[1] for j in i.split(' ')}\n",
    "    fields = [True if r in i else False for r in req]\n",
    "\n",
    "    if all(fields):\n",
    "        lim_res = []\n",
    "        lim_res.append(1920 <= int(ins['byr']) <= 2002)\n",
    "        lim_res.append(2010 <= int(ins['iyr']) <= 2020)\n",
    "        lim_res.append(2020 <= int(ins['eyr']) <= 2030)         \n",
    "\n",
    "        h = ins['hgt'][:-2]\n",
    "        if ins['hgt'].endswith('cm'):\n",
    "            lim_res.append(150 <= int(h) <= 193)\n",
    "        elif ins['hgt'].endswith('in'):\n",
    "            lim_res.append(59 <= int(h) <= 76)\n",
    "        else:\n",
    "            lim_res.append(False)\n",
    "  \n",
    "        pat = r'^#[0-9a-f]{6}$'\n",
    "        lim_res.append(True if re.match(pat, ins['hcl']) else False) \n",
    "        lim_res.append(ins['ecl'] in ['amb', 'blu', 'brn', 'gry', 'grn', 'hzl', 'oth'])         \n",
    "        pat = r'^[0-9]{9}$'\n",
    "        lim_res.append(True if re.match(pat, ins['pid']) else False)\n",
    "            \n",
    "        if all(lim_res):                                                \n",
    "            s += 1\n",
    "s"
   ]
  }
 ]
}