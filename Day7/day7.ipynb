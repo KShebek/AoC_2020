{
 "metadata": {
  "language_info": {
   "codemirror_mode": {
    "name": "ipython",
    "version": 3
   },
   "file_extension": ".py",
   "mimetype": "text/x-python",
   "name": "python",
   "nbconvert_exporter": "python",
   "pygments_lexer": "ipython3",
   "version": "3.7.6-final"
  },
  "orig_nbformat": 2,
  "kernelspec": {
   "name": "python3",
   "display_name": "Python 3"
  }
 },
 "nbformat": 4,
 "nbformat_minor": 2,
 "cells": [
  {
   "cell_type": "code",
   "execution_count": 360,
   "metadata": {},
   "outputs": [],
   "source": [
    "data = [i.strip('.\\n').split(' contain ') for i in open('day7.txt').readlines()]\n",
    "data = [[j.split(', ') for j in i] for i in data]"
   ]
  },
  {
   "cell_type": "code",
   "execution_count": 361,
   "metadata": {},
   "outputs": [],
   "source": [
    "# Construct dictionary and do BFS for part 1\n",
    "from collections import defaultdict\n",
    "import re\n",
    "pat = re.compile('(?:[\\d+]) (.* bag)')\n",
    "tree = defaultdict(list)\n",
    "for i in data:\n",
    "    # print(i)\n",
    "    for j in i[1]:\n",
    "        if j.startswith('no'):\n",
    "            continue\n",
    "        j = re.findall(pat, j)\n",
    "\n",
    "        tree[j[0]].append(i[0][0][:-1])\n",
    "\n",
    "def bfs(bags, init='shiny gold bag'):\n",
    "    visited = []\n",
    "    queue = [init]\n",
    "\n",
    "    while queue:\n",
    "        node = queue.pop(0)\n",
    "        if node not in visited:\n",
    "            visited.append(node)\n",
    "            neighbors = bags[node]\n",
    "\n",
    "            for neighbor in neighbors:\n",
    "                queue.append(neighbor)\n",
    "            \n",
    "    return visited\n",
    "\n",
    "len(bfs(tree))-1"
   ]
  },
  {
   "cell_type": "code",
   "execution_count": 370,
   "metadata": {
    "tags": []
   },
   "outputs": [],
   "source": [
    "# Construct inverse of part 1 and do BFS again, summing up total bags seen\n",
    "from collections import defaultdict\n",
    "import re\n",
    "pat = re.compile('([\\d+]) (.* bag)')\n",
    "tree = defaultdict(list)\n",
    "for i in data:\n",
    "    # print(i)\n",
    "    for j in i[1]:\n",
    "        if j.startswith('no'):\n",
    "            continue\n",
    "        j = re.findall(pat, j)\n",
    "\n",
    "        tree[i[0][0][:-1]].append(*j)\n",
    "\n",
    "def numbags(bags, bag):\n",
    "    loc_bags = bags.get(bag)  \n",
    "\n",
    "    if not loc_bags:\n",
    "        return 0\n",
    "    else:\n",
    "        n = 0\n",
    "        for nbags, loc_bag in loc_bags:\n",
    "            j = multadd(bags, loc_bag)\n",
    "            n += j*int(nbags) + int(nbags)\n",
    "    \n",
    "    return n\n",
    "\n",
    "numbags(tree, 'shiny gold bag')"
   ]
  }
 ]
}