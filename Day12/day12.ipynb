{
 "metadata": {
  "language_info": {
   "codemirror_mode": {
    "name": "ipython",
    "version": 3
   },
   "file_extension": ".py",
   "mimetype": "text/x-python",
   "name": "python",
   "nbconvert_exporter": "python",
   "pygments_lexer": "ipython3",
   "version": "3.7.9-final"
  },
  "orig_nbformat": 2,
  "kernelspec": {
   "name": "python3",
   "display_name": "Python 3",
   "language": "python"
  }
 },
 "nbformat": 4,
 "nbformat_minor": 2,
 "cells": [
  {
   "cell_type": "code",
   "execution_count": 60,
   "metadata": {},
   "outputs": [
    {
     "output_type": "stream",
     "name": "stdout",
     "text": [
      "1032.0\n"
     ]
    }
   ],
   "source": [
    "from math import cos, sin, pi\n",
    "data = [(i[0], int(i[1:])) for i in open('day12.txt').read().split('\\n')]\n",
    "def rot(x, y, ang):\n",
    "        ang *= pi/180\n",
    "        new_x = round(cos(ang)*(x) - sin(ang)*(y),0)\n",
    "        new_y = round(sin(ang)*(x) + cos(ang)*(y),0)\n",
    "        return [new_x, new_y]"
   ]
  },
  {
   "cell_type": "code",
   "execution_count": null,
   "metadata": {},
   "outputs": [],
   "source": [
    "# part1\n",
    "def update(x, y, ang, r):\n",
    "    # rotate\n",
    "    cardinal = {'N': (0, 1), 'S': (0, -1), 'E': (1, 0), 'W': (-1, 0)}\n",
    "    curr_d = rot(1, 0, ang)\n",
    "    \n",
    "    if r[0] in cardinal:\n",
    "        dx, dy = cardinal[r[0]]\n",
    "        x += r[1]*dx\n",
    "        y += r[1]*dy\n",
    "\n",
    "    elif r[0] == 'F':\n",
    "        x += curr_d[0]*r[1]\n",
    "        y += curr_d[1]*r[1]\n",
    "    \n",
    "    elif r[0] == 'L':\n",
    "        ang += r[1]\n",
    "    elif r[0] == 'R':\n",
    "        ang -= r[1]\n",
    "\n",
    "    return x, y, ang\n",
    "\n",
    "x, y, ang = 0, 0, 0\n",
    "for r in data:\n",
    "    x, y, ang = update(x, y, ang, r)\n",
    "\n",
    "print(abs(x) + abs(y))"
   ]
  },
  {
   "cell_type": "code",
   "execution_count": 66,
   "metadata": {
    "tags": []
   },
   "outputs": [
    {
     "output_type": "stream",
     "name": "stdout",
     "text": [
      "156735.0\n"
     ]
    }
   ],
   "source": [
    "# part 2\n",
    "def update(x, y, w, r):\n",
    "    cardinal = {'N': (0, 1), 'S': (0, -1), 'E': (1, 0), 'W': (-1, 0)}\n",
    "    if r[0] in cardinal:\n",
    "        dx, dy = cardinal[r[0]]\n",
    "        w[0] += r[1]*dx\n",
    "        w[1] += r[1]*dy\n",
    "\n",
    "    elif r[0] == 'F':\n",
    "        x += w[0]*r[1]\n",
    "        y += w[1]*r[1]\n",
    "\n",
    "    elif r[0] == 'L':\n",
    "        w = rot(w[0], w[1], r[1])\n",
    "    elif r[0] == 'R':\n",
    "        w = rot(w[0], w[1], -r[1])\n",
    "\n",
    "    return x, y, w\n",
    "\n",
    "x, y = 0, 0\n",
    "w = [10, 1]\n",
    "for r in data:\n",
    "    x, y, w = update(x, y, w, r)\n",
    "\n",
    "print(abs(x) + abs(y))"
   ]
  }
 ]
}