{
 "metadata": {
  "language_info": {
   "codemirror_mode": {
    "name": "ipython",
    "version": 3
   },
   "file_extension": ".py",
   "mimetype": "text/x-python",
   "name": "python",
   "nbconvert_exporter": "python",
   "pygments_lexer": "ipython3",
   "version": "3.7.6-final"
  },
  "orig_nbformat": 2,
  "kernelspec": {
   "name": "python37664bitcorecondabb4344123de84203808d4de20ce37c1e",
   "display_name": "Python 3.7.6 64-bit ('core': conda)"
  }
 },
 "nbformat": 4,
 "nbformat_minor": 2,
 "cells": [
  {
   "cell_type": "code",
   "execution_count": null,
   "metadata": {},
   "outputs": [],
   "source": [
    "import numpy as np\n",
    "from collections import Counter\n",
    "from copy import copy\n",
    "\n",
    "data = [[int(j) for j in i.replace('.', '1').replace('L', '2').replace('#', '3')] for i in open('day11.txt').read().split('\\n')]\n",
    "data = np.array(data)\n",
    "data = np.pad(data, 1)"
   ]
  },
  {
   "cell_type": "code",
   "execution_count": 59,
   "metadata": {
    "tags": []
   },
   "outputs": [],
   "source": [
    "# Board transformation rules\n",
    "def trans1(i, j, data):\n",
    "    neigh = Counter()\n",
    "    s = data[i-1:i+2, j-1:j+2]\n",
    "\n",
    "    for x in range(3):\n",
    "        for y in range(3):\n",
    "            if (x != 1 or y != 1):\n",
    "                neigh[s[x, y]] += 1\n",
    "\n",
    "    # occupied\n",
    "    if s[1, 1] == 3:\n",
    "        if neigh[3] >= 4:\n",
    "            return 2\n",
    "    elif s[1, 1] == 2:\n",
    "        if neigh[3] == 0:\n",
    "            return 3\n",
    "\n",
    "    return s[1, 1]\n",
    "\n",
    "\n",
    "def trans2(i, j, data):\n",
    "    neigh = Counter()\n",
    "\n",
    "    def get_first(direction):\n",
    "        cur_seat = 0\n",
    "        di, dj = direction\n",
    "        x, y = i + di, j + dj\n",
    "\n",
    "        while (0 < x < data.shape[0]-1) and (0 < y < data.shape[0]-1):\n",
    "            if data[x, y] in [2, 3]:\n",
    "                return data[x, y]            \n",
    "            x += di\n",
    "            y += dj\n",
    "        \n",
    "        return 0\n",
    "\n",
    "    dirs = list(product([-1, 0, 1], [-1, 0, 1]))\n",
    "    dirs.remove((0, 0))\n",
    "    \n",
    "    for d in dirs:\n",
    "        neigh[get_first(d)] += 1\n",
    "\n",
    "   \n",
    "    if data[i, j] == 3 and neigh[3] >= 5:\n",
    "            return 2\n",
    "    elif data[i, j] == 2 and neigh[3] == 0:\n",
    "            return 3\n",
    "\n",
    "    return data[i, j]"
   ]
  },
  {
   "cell_type": "code",
   "execution_count": 62,
   "metadata": {},
   "outputs": [
    {
     "output_type": "stream",
     "name": "stdout",
     "text": [
      "Part 1: 2427\nPart 2: 2199\n"
     ]
    }
   ],
   "source": [
    "def update_board(data, t_fun):\n",
    "    new_board = copy(data)\n",
    "    for i in range(1, data.shape[0]-1):\n",
    "        for j in range(1, data.shape[1]-1):\n",
    "            new_board[i, j] = t_fun(i, j, data)     \n",
    "\n",
    "    return new_board\n",
    "\n",
    "old_data = copy(data)\n",
    "while True:\n",
    "    new_data = update_board(old_data, trans1)\n",
    "    if (old_data == new_data).all():\n",
    "        break\n",
    "    old_data = new_data\n",
    "\n",
    "p1 = sum(sum(new_data == 3))\n",
    "\n",
    "old_data = copy(data)\n",
    "while True:\n",
    "    new_data = update_board(old_data, trans2)\n",
    "    if (old_data == new_data).all():\n",
    "        break\n",
    "    old_data = new_data\n",
    "\n",
    "p2 = sum(sum(new_data == 3))\n",
    "\n",
    "print(f'Part 1: {p1}\\nPart 2: {p2}')"
   ]
  }
 ]
}