{
 "metadata": {
  "language_info": {
   "codemirror_mode": {
    "name": "ipython",
    "version": 3
   },
   "file_extension": ".py",
   "mimetype": "text/x-python",
   "name": "python",
   "nbconvert_exporter": "python",
   "pygments_lexer": "ipython3",
   "version": "3.8.5-final"
  },
  "orig_nbformat": 2,
  "kernelspec": {
   "name": "python3",
   "display_name": "Python 3.8.5 64-bit",
   "metadata": {
    "interpreter": {
     "hash": "aee8b7b246df8f9039afb4144a1f6fd8d2ca17a180786b69acc140d282b71a49"
    }
   }
  }
 },
 "nbformat": 4,
 "nbformat_minor": 2,
 "cells": [
  {
   "source": [
    "# Import Data\n",
    "from collections import Counter\n",
    "data = [0] + sorted([int(i) for i in open('day10.txt').read().split('\\n')])"
   ],
   "cell_type": "code",
   "metadata": {},
   "execution_count": 15,
   "outputs": []
  },
  {
   "cell_type": "code",
   "execution_count": 16,
   "metadata": {},
   "outputs": [
    {
     "output_type": "execute_result",
     "data": {
      "text/plain": [
       "2040"
      ]
     },
     "metadata": {},
     "execution_count": 16
    }
   ],
   "source": [
    "# Part 1\n",
    "dist = Counter(list(map(lambda x: x[1]-x[0], list(zip(data, data[1:])))) + [3])\n",
    "dist[1]*dist[3]"
   ]
  },
  {
   "cell_type": "code",
   "execution_count": 30,
   "metadata": {
    "tags": []
   },
   "outputs": [
    {
     "output_type": "execute_result",
     "data": {
      "text/plain": [
       "28346956187648"
      ]
     },
     "metadata": {},
     "execution_count": 30
    }
   ],
   "source": [
    "# Part 2\n",
    "k = 0\n",
    "memo = dict()\n",
    "def next_adapter(l):\n",
    "    t_arr = 0\n",
    "    if len(l) == 1:\n",
    "        return 1\n",
    "    else:\n",
    "        for i, j in enumerate(l[1:]):\n",
    "            if j - l[0] <= 3:\n",
    "                if not (v:= memo.get(tuple(l[i+1:]))):\n",
    "                    v = next_adapter(l[i+1:])\n",
    "                    memo[tuple(l[i+1:])] = v\n",
    "\n",
    "                t_arr += v\n",
    "\n",
    "        return t_arr\n",
    "\n",
    "next_adapter(data)"
   ]
  },
  {
   "cell_type": "code",
   "execution_count": 27,
   "metadata": {},
   "outputs": [
    {
     "output_type": "execute_result",
     "data": {
      "text/plain": [
       "28346956187648"
      ]
     },
     "metadata": {},
     "execution_count": 27
    }
   ],
   "source": [
    "# Part two -- similar approach, but simpler\n",
    "dp = [1]\n",
    "for i in range(1, len(data)):\n",
    "    ans = 0\n",
    "    for j in range(i):\n",
    "        if data[j] + 3 >= data[i]:\n",
    "            ans += dp[j]\n",
    "    dp.append(ans)\n",
    "\n",
    "ans"
   ]
  }
 ]
}